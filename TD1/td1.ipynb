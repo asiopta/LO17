{
 "cells": [
  {
   "cell_type": "code",
   "execution_count": 1,
   "metadata": {},
   "outputs": [],
   "source": [
    "import pandas as pd"
   ]
  },
  {
   "cell_type": "code",
   "execution_count": 5,
   "metadata": {},
   "outputs": [],
   "source": [
    "c_r = \"Un corbeau tient un fromage dans son bec. Un renard rusé le flatte pour le tromper et lui faire lâcher son repas.\"\n",
    "r_b = \"Un renard et un bouc tombent dans un puits. Le renard parvient à tromper le bouc pour s’en sortir, puis l’abandonne au fond.\"\n",
    "l_a = \"Un loup cherche un prétexte pour faire de l’agneau innocent son repas.\"\n",
    "r_c = \"Un renard invite une cigogne à dîner mais lui sert un repas inadapté; la cigogne se venge de la même manière.\"\n",
    "ldb = \"Un loup se déguise en berger pour tromper les moutons, mais il est vite démasqué et puni.\"\n",
    "\n",
    "stories = [c_r, r_b, l_a, r_c, ldb]\n",
    "incidence_matrix_2= [\n",
    "        [1, 1, 0, 0, 0, 0, 1, 1, 1],\n",
    "        [0, 1, 0, 1, 0, 0, 0, 0, 1],\n",
    "        [0, 0, 0, 0, 1, 0, 0, 1, 0],\n",
    "        [0, 1, 1, 0, 0, 0, 0, 1, 0],\n",
    "        [0, 0, 0, 0, 1, 1, 0, 0, 1]\n",
    "    ]\n",
    "\n",
    "incidence_matrix = [\n",
    "    [1, 0, 0, 0, 0],\n",
    "    [1, 1, 0, 1, 0],\n",
    "    [0, 0, 0, 1, 0],\n",
    "    [0, 1, 0, 0, 0],\n",
    "    [0, 0, 1, 0, 1],\n",
    "    [0, 0, 0, 0, 1],\n",
    "    [1, 0, 0, 0, 0],\n",
    "    [1, 0, 1, 1, 0],\n",
    "    [1, 1, 0, 0, 1]\n",
    "]\n",
    "\n",
    "inversed_index = {}\n",
    "\n",
    "def liste_termes(stories: list[str]) -> pd.DataFrame:\n",
    "    inverted_index = pd.DataFrame({\"terme\": [], \"DocId\": []})\n",
    "    for i in range(len(stories)):\n",
    "        story = stories[i]\n",
    "        story = \"\".join([char \n",
    "                         for char in story \n",
    "                         if char not in [\".\", \",\", \";\", \":\"]])\n",
    "        \n",
    "        story = story.lower()\n",
    "        words = story.split(\" \")\n",
    "        for word in words:\n",
    "            inverted_index.loc[len(inversed_index)] = [word, i]\n",
    "    \n",
    "    return inverted_index.sort_values(by=\"terme\", ascending=True)\n",
    "\n",
    "def create_inverted_index(liste_termes):\n",
    "    resultat = liste_termes.groupby(\"termes\")[\"DocId\"].apply(lambda x: list(set(x)) if len(set(x)) > 1 else x.iloc[0]).reset_index()\n",
    "    return resultat\n",
    "\n"
   ]
  },
  {
   "cell_type": "code",
   "execution_count": 4,
   "metadata": {},
   "outputs": [
    {
     "name": "stdout",
     "output_type": "stream",
     "text": [
      "  terme  DocId\n",
      "0  puni      4\n"
     ]
    }
   ],
   "source": [
    "termes = liste_termes(stories)\n",
    "print(termes)\n"
   ]
  },
  {
   "cell_type": "code",
   "execution_count": null,
   "metadata": {},
   "outputs": [],
   "source": [
    "res = create_inverted_index(termes)\n",
    "print(res)"
   ]
  }
 ],
 "metadata": {
  "kernelspec": {
   "display_name": "base",
   "language": "python",
   "name": "python3"
  },
  "language_info": {
   "codemirror_mode": {
    "name": "ipython",
    "version": 3
   },
   "file_extension": ".py",
   "mimetype": "text/x-python",
   "name": "python",
   "nbconvert_exporter": "python",
   "pygments_lexer": "ipython3",
   "version": "3.12.7"
  }
 },
 "nbformat": 4,
 "nbformat_minor": 2
}
