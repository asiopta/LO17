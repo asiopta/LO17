{
 "cells": [
  {
   "cell_type": "code",
   "execution_count": 2,
   "id": "758af77c",
   "metadata": {},
   "outputs": [],
   "source": [
    "def recherche_proximite(m1, m2, seuilMin = 3, seuilMax = 4):\n",
    "    l1 = len(m1)\n",
    "    l2 = len(m2)\n",
    "    if (l1< seuilMin) or (l2<seuilMin):\n",
    "        return 0\n",
    "    elif abs(l1- l2) > seuilMax :\n",
    "        return 0\n",
    "    else :\n",
    "        i = 0\n",
    "        while (i < min(l1, l2)) and (m1[i] == m2[i]):\n",
    "            i += 1\n",
    "        return 100*i/max(l1, l2)"
   ]
  },
  {
   "cell_type": "code",
   "execution_count": 47,
   "id": "9b3f5fdf",
   "metadata": {},
   "outputs": [
    {
     "name": "stdout",
     "output_type": "stream",
     "text": [
      "0.0\n"
     ]
    }
   ],
   "source": [
    "print(recherche_proximite(\"hello\", \"world\", 3, 4))"
   ]
  },
  {
   "cell_type": "code",
   "execution_count": 3,
   "id": "100fc97c",
   "metadata": {},
   "outputs": [],
   "source": [
    "import numpy as np\n",
    "def levenshtein2(word, mots_candidats):\n",
    "    best_dist = 1000\n",
    "    best_mot = \"\"\n",
    "    lw = len(word)\n",
    "    for candidate in mots_candidats:\n",
    "        lc = len(candidate)\n",
    "        dist = np.zeros((lw + 1, lc + 1), dtype=int)\n",
    "        for i in range(1, lw + 1):\n",
    "            for j in range(1, lc + 1):\n",
    "                if word[i - 1] == candidate[j - 1]:  # Adjust indices\n",
    "                    dist[i][j] = min(dist[i - 1][j] + 1,\n",
    "                                    dist[i][j - 1] + 1,\n",
    "                                    dist[i - 1][j - 1])\n",
    "                else:\n",
    "                    dist[i][j] = min(dist[i - 1][j] + 1,\n",
    "                                    dist[i][j - 1] + 1,\n",
    "                                    dist[i - 1][j - 1] + 1)\n",
    "        if dist[lw][lc] < best_dist:\n",
    "            best_mot = candidate\n",
    "    return best_mot\n",
    "                \n"
   ]
  },
  {
   "cell_type": "code",
   "execution_count": 4,
   "id": "3fee73ac",
   "metadata": {},
   "outputs": [],
   "source": [
    "def levenshtein(word, mots_candidats):\n",
    "    best_dist = float('inf')\n",
    "    best_mot = \"\"\n",
    "    lw = len(word)\n",
    "\n",
    "    for candidate in mots_candidats:\n",
    "        lc = len(candidate)\n",
    "        dist = np.zeros((lw + 1, lc + 1), dtype=int)\n",
    "\n",
    "        # Initialisation\n",
    "        for i in range(lw + 1):\n",
    "            dist[i][0] = i\n",
    "        for j in range(lc + 1):\n",
    "            dist[0][j] = j\n",
    "\n",
    "        # Remplissage\n",
    "        for i in range(1, lw + 1):\n",
    "            for j in range(1, lc + 1):\n",
    "                if word[i - 1] == candidate[j - 1]:\n",
    "                    cost = 0\n",
    "                else:\n",
    "                    cost = 1\n",
    "                dist[i][j] = min(dist[i - 1][j] + 1,     # suppression\n",
    "                                 dist[i][j - 1] + 1,     # insertion\n",
    "                                 dist[i - 1][j - 1] + cost)  # substitution\n",
    "\n",
    "        if dist[lw][lc] < best_dist:\n",
    "            best_dist = dist[lw][lc]\n",
    "            best_mot = candidate\n",
    "\n",
    "    return best_mot"
   ]
  },
  {
   "cell_type": "code",
   "execution_count": 49,
   "id": "aff4717c",
   "metadata": {},
   "outputs": [
    {
     "name": "stdout",
     "output_type": "stream",
     "text": [
      "hell\n"
     ]
    }
   ],
   "source": [
    "print(levenshtein(\"hello\", [\"hell\", \"help\", \"halo\"]))"
   ]
  },
  {
   "cell_type": "code",
   "execution_count": 5,
   "id": "43404e9f",
   "metadata": {},
   "outputs": [],
   "source": [
    "import pandas as pd\n",
    "def lemmatize(lemmes_path):\n",
    "    lemmes = pd.read_csv(lemmes_path, sep=\"\\t\")\n",
    "\n",
    "    phrase: str = input(\"Ecrivez une phrase: \")\n",
    "    phrase = phrase.lower()\n",
    "    words = phrase.split()\n",
    "    print(words)\n",
    "    for word in words:\n",
    "        if word in lemmes[\"mot\"].values:\n",
    "            lemme = lemmes.loc[lemmes[\"mot\"] == word, \"lemme\"].values[0]\n",
    "            phrase = phrase.replace(word, lemme)\n",
    "        else: \n",
    "            mots_candidats = []\n",
    "            for mot in lemmes[\"mot\"]:\n",
    "                dist = recherche_proximite(word, mot, 3, 4)\n",
    "                if dist != 0:\n",
    "                    mots_candidats.append(mot)\n",
    "            if len(mots_candidats) == 0:\n",
    "                print(\"no lemma found for: \", word)\n",
    "            else:\n",
    "                mot_result = levenshtein(word ,mots_candidats)\n",
    "                lemme = lemmes.loc[lemmes[\"mot\"] == mot_result, \"lemme\"].values[0]\n",
    "                phrase = phrase.replace(word, str(lemme))\n",
    "    return phrase"
   ]
  },
  {
   "cell_type": "code",
   "execution_count": 63,
   "id": "acf06a38",
   "metadata": {},
   "outputs": [
    {
     "name": "stdout",
     "output_type": "stream",
     "text": [
      "['bonjour', 'monsieur,', 'je', 'voudrais', 'vous', 'montrer', 'les', 'résultats', 'des', 'recherches', 'que', \"j'ai\", 'réalisé.']\n"
     ]
    },
    {
     "data": {
      "text/plain": [
       "'bonheur montrer je vouloir vous montrer le résultat un recherche que jamais réaliser'"
      ]
     },
     "execution_count": 63,
     "metadata": {},
     "output_type": "execute_result"
    }
   ],
   "source": [
    "lemmatize(\"C:/Users/ntich/OneDrive/Desktop/school shit/LO17/TD4/lemmes.csv\")"
   ]
  },
  {
   "cell_type": "code",
   "execution_count": 6,
   "id": "ff742572",
   "metadata": {},
   "outputs": [],
   "source": [
    "import pandas as pd\n",
    "def lemmatize_corpus(lemmes_path):\n",
    "    lemmes = pd.read_csv(lemmes_path, sep=\"\\t\")\n",
    "\n",
    "    phrase: str = input(\"Ecrivez une phrase: \")\n",
    "    phrase = phrase.lower()\n",
    "    words = phrase.split()\n",
    "    print(words)\n",
    "    for word in words:\n",
    "        if word in lemmes[\"mot\"].values:\n",
    "            lemme = lemmes.loc[lemmes[\"mot\"] == word, \"lemme\"].values[0]\n",
    "            phrase = phrase.replace(word, lemme)\n",
    "        else: \n",
    "            mots_candidats = []\n",
    "            for mot in lemmes[\"mot\"]:\n",
    "                dist = recherche_proximite(word, mot, 3, 4)\n",
    "                if dist != 0:\n",
    "                    mots_candidats.append(mot)\n",
    "            if len(mots_candidats) == 0:\n",
    "                print(\"no lemma found for: \", word)\n",
    "            else:\n",
    "                mot_result = levenshtein(word ,mots_candidats)\n",
    "                lemme = lemmes.loc[lemmes[\"mot\"] == mot_result, \"lemme\"].values[0]\n",
    "                phrase = phrase.replace(word, str(lemme))\n",
    "    return phrase"
   ]
  },
  {
   "cell_type": "code",
   "execution_count": 7,
   "id": "a1d589e4",
   "metadata": {},
   "outputs": [],
   "source": [
    "def correction_orthographique(mot, lemmes_path):\n",
    "    lemmes = pd.read_csv(lemmes_path, sep=\"\\t\")\n",
    "    mot = mot.lower()\n",
    "    if mot in lemmes[\"mot\"].values:\n",
    "            lemme = lemmes.loc[lemmes[\"mot\"] == mot, \"lemme\"].values[0]\n",
    "    else: \n",
    "            mots_candidats = []\n",
    "            for lemme in lemmes[\"mot\"]:\n",
    "                dist = recherche_proximite(mot, lemme, 3, 4)\n",
    "                if dist != 0:\n",
    "                    mots_candidats.append(lemme)\n",
    "            if len(mots_candidats) == 0:\n",
    "                print(\"no lemma found for: \", mot)\n",
    "            else:\n",
    "                mot_result = levenshtein(mot ,mots_candidats)\n",
    "                lemme = lemmes.loc[lemmes[\"mot\"] == mot_result, \"lemme\"].values[0]\n",
    "    return str(lemme)"
   ]
  }
 ],
 "metadata": {
  "kernelspec": {
   "display_name": "base",
   "language": "python",
   "name": "python3"
  },
  "language_info": {
   "codemirror_mode": {
    "name": "ipython",
    "version": 3
   },
   "file_extension": ".py",
   "mimetype": "text/x-python",
   "name": "python",
   "nbconvert_exporter": "python",
   "pygments_lexer": "ipython3",
   "version": "3.12.3"
  }
 },
 "nbformat": 4,
 "nbformat_minor": 5
}
