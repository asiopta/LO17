{
 "cells": [
  {
   "cell_type": "markdown",
   "metadata": {},
   "source": [
    "faut-il mieux utiliser commer unité documentaire un bulletin ou bien un article?\n",
    "=> je dirai plus unité documentaire = bulletin \n",
    "parceque chercher la fréquence d'apparition d'un mot dans le titre d'une image par exemple, ne veut pas dire grande chose.\n",
    "De plus, plus tard, on s'intéressera à chercher des bulletins par rapport à des mots spécéfiques et non pas des textes, ou juste une seule image.\n",
    "\n"
   ]
  },
  {
   "cell_type": "code",
   "execution_count": null,
   "metadata": {},
   "outputs": [],
   "source": [
    "import pandas as pd\n",
    "\n",
    "def calculate_coeff(input_file, output_file):\n",
    "    \"\"\"Calcule le nombre d'occurrences des mots dans chaque document et l'enregistre dans un fichier CSV\"\"\"\n",
    "    df = pd.read_csv(input_file, sep= \"\\t\")\n",
    "\n",
    "    # nb d'occurrences des mots par document\n",
    "    counts = df.groupby([\"mot\", \"doc_id\"]).size().reset_index(name=\"tf\") \n",
    "\n",
    "    counts.to_csv(output_file, sep='\\t', index=False, encoding=\"utf-8\")\n",
    "\n",
    "\n"
   ]
  },
  {
   "cell_type": "code",
   "execution_count": null,
   "metadata": {},
   "outputs": [],
   "source": [
    "calculate_coeff(\n",
    "    \"C:/Users/ntich/OneDrive/Desktop/school shit/LO17/TD3/dict_complet.csv\",\n",
    "    \"C:/Users/ntich/OneDrive/Desktop/school shit/LO17/TD3/tf.csv\"\n",
    ")"
   ]
  },
  {
   "cell_type": "code",
   "execution_count": null,
   "metadata": {},
   "outputs": [],
   "source": [
    "import pandas as pd\n",
    "import numpy as np\n",
    "\n",
    "def calculate_idf(input_file, output_file):\n",
    "    \"\"\"Calcule les coefficients IDF pour chaque mot et les enregistre dans un fichier TSV.\"\"\"\n",
    "\n",
    "    df = pd.read_csv(input_file, sep='\\t')\n",
    "    N = df[\"doc_id\"].nunique() #nb de documents\n",
    "    print(N)\n",
    "\n",
    "\n",
    "    dft = df.groupby(\"mot\")[\"doc_id\"].nunique().reset_index(name=\"dft\")  # Nombre de docs par mot\n",
    "    #print(dft)\n",
    "\n",
    "   \n",
    "    dft[\"idft\"] = np.log10(N / dft[\"dft\"])\n",
    "    dft[[\"mot\", \"idft\"]].to_csv(output_file, sep='\\t', index=False, encoding=\"utf-8\")\n",
    "\n"
   ]
  },
  {
   "cell_type": "code",
   "execution_count": null,
   "metadata": {},
   "outputs": [],
   "source": [
    "calculate_idf(\n",
    "    \"C:/Users/ntich/OneDrive/Desktop/school shit/LO17/TD3/occurences.csv\",\n",
    "    \"C:/Users/ntich/OneDrive/Desktop/school shit/LO17/TD3/idf_coefficients.csv\"\n",
    ")"
   ]
  },
  {
   "cell_type": "code",
   "execution_count": null,
   "metadata": {},
   "outputs": [],
   "source": [
    "import pandas as pd\n",
    "\n",
    "def final_calculation(tf, idf, output):\n",
    "    # Charger les fichiers CSV\n",
    "    tf_data = pd.read_csv(tf, sep=\"\\t\")\n",
    "    idf_data = pd.read_csv(idf, sep=\"\\t\")\n",
    "    # Fusionner les deux fichiers sur la colonne \"mot\"\n",
    "    final_df = tf_data.merge(idf_data, on=\"mot\", how=\"inner\")  # 'inner' pour éviter les NaN\n",
    "\n",
    "    final_df[\"tf*idf\"] = final_df[\"tf\"] * final_df[\"idft\"]\n",
    "    final_df[[\"doc_id\", \"mot\", \"tf*idf\"]].to_csv(output, sep='\\t', index=False, encoding=\"utf-8\")\n",
    "\n"
   ]
  },
  {
   "cell_type": "code",
   "execution_count": 10,
   "metadata": {},
   "outputs": [
    {
     "name": "stdout",
     "output_type": "stream",
     "text": [
      "Colonnes tf_data: Index(['mot', 'doc_id', 'tf'], dtype='object')\n",
      "Colonnes idf_data: Index(['mot', 'idft'], dtype='object')\n",
      "Valeurs NaN après merge:\n",
      " mot       0\n",
      "doc_id    0\n",
      "tf        0\n",
      "idft      0\n",
      "dtype: int64\n"
     ]
    }
   ],
   "source": [
    "final_calculation(\n",
    "    \"C:/Users/ntich/OneDrive/Desktop/school shit/LO17/TD3/tf.csv\",\n",
    "    \"C:/Users/ntich/OneDrive/Desktop/school shit/LO17/TD3/idf_coefficients.csv\",\n",
    "    \"C:/Users/ntich/OneDrive/Desktop/school shit/LO17/TD3/output.csv\"\n",
    ")"
   ]
  },
  {
   "cell_type": "code",
   "execution_count": 11,
   "metadata": {},
   "outputs": [
    {
     "data": {
      "image/png": "[encoded data removed]",
      "text/plain": [
       "<Figure size 1000x600 with 1 Axes>"
      ]
     },
     "metadata": {},
     "output_type": "display_data"
    }
   ],
   "source": [
    "import pandas as pd\n",
    "import matplotlib.pyplot as plt\n",
    "import seaborn as sns\n",
    "\n",
    "def plot_tf_idf_histogram(tf_idf_file, bins=20):\n",
    "    df = pd.read_csv(tf_idf_file, sep='\\t')\n",
    "    data = df[df[\"tf*idf\"]<=10]\n",
    "    plt.figure(figsize=(10, 6))\n",
    "    #plt.hist(df[\"tf*idf\"], bins=bins, edgecolor='black', alpha=0.7)\n",
    "    sns.histplot(data, bins=bins, alpha=0.7)\n",
    "    # Add labels and title\n",
    "    plt.xlabel(\"TF*IDF\")\n",
    "    plt.grid(axis='y', linestyle='--', alpha=0.7)\n",
    "    plt.show()\n",
    "\n",
    "\n",
    "plot_tf_idf_histogram(\"C:/Users/ntich/OneDrive/Desktop/school shit/LO17/TD3/output.csv\")\n"
   ]
  },
  {
   "cell_type": "code",
   "execution_count": 1,
   "metadata": {},
   "outputs": [
    {
     "name": "stdout",
     "output_type": "stream",
     "text": [
      "      doc_id         mot     tf*idf\n",
      "25943  67392          et   0.002673\n",
      "26151  73189          et   0.002673\n",
      "26077  70921          et   0.002673\n",
      "26115  72121          et   0.005345\n",
      "26075  70919          et   0.005345\n",
      "...      ...         ...        ...\n",
      "49986  70421     pompier  27.645394\n",
      "49719  71836    pléiades  30.158611\n",
      "30625  67937    hoffmann  32.671829\n",
      "63995  69184  sérotonine  35.185046\n",
      "11210  71357      cheval  39.819377\n",
      "\n",
      "[71556 rows x 3 columns]\n"
     ]
    }
   ],
   "source": [
    "import pandas as pd\n",
    "final_data= pd.read_csv(\"C:/Users/ntich/OneDrive/Desktop/school shit/LO17/TD3/output.csv\", sep='\\t')\n",
    "sorted_data = final_data.sort_values(\"tf*idf\")\n",
    "print(sorted_data)\n",
    "sorted_data.to_csv(\"C:/Users/ntich/OneDrive/Desktop/school shit/LO17/TD3/sorted_data.csv\", sep='\\t', index=False, encoding=\"utf-8\")\n"
   ]
  },
  {
   "cell_type": "code",
   "execution_count": 2,
   "metadata": {},
   "outputs": [],
   "source": [
    "def extract_first_quantile(file_path, output_path, qt1=0.1):\n",
    "    df = pd.read_csv(file_path, sep=\"\\t\")\n",
    "\n",
    "    # Compute Q1 (first quartile)\n",
    "    q1 = df[\"tf*idf\"].quantile(qt1)\n",
    "\n",
    "    # Select words in the first quartile\n",
    "    first_quartile_df = df[df[\"tf*idf\"] <= q1]\n",
    "\n",
    "    # Save the filtered results\n",
    "    first_quartile_df.to_csv(output_path, sep=\"\\t\", index=False, encoding=\"utf-8\")\n",
    "    print(f\"Q{qt1} Value: {q1}\")\n",
    "\n"
   ]
  },
  {
   "cell_type": "code",
   "execution_count": 11,
   "metadata": {},
   "outputs": [
    {
     "name": "stdout",
     "output_type": "stream",
     "text": [
      "Q0.17 Value: 0.6211310122699408\n"
     ]
    }
   ],
   "source": [
    "extract_first_quantile(\"C:/Users/ntich/OneDrive/Desktop/school shit/LO17/TD3/data/sorted_data.csv\", \n",
    "                       \"C:/Users/ntich/OneDrive/Desktop/school shit/LO17/TD3/data/q=0.17.csv\", \n",
    "                       0.17)"
   ]
  },
  {
   "cell_type": "code",
   "execution_count": null,
   "metadata": {},
   "outputs": [],
   "source": [
    "#après avoir visualiser les différents mots appartenant aux valeurs de quantiles différentes  0.15 / 0.2 /0.25\n",
    "#j'ai décidé de prendre 0.15 comme seuil max. Cette valeur permet d'enlever que des mots parasytes, \n",
    "# sans riquer enlever des mots qui peuvent étre utiles.\n",
    "#Mais, on aurait pu prendre 0.2 pour étre plus agressif et enlever un maximum de mots, \n",
    "# meme si on risque de perdre quelques mots parfois qui peuvent étre utiles\n",
    "cut_off_value = 0.17"
   ]
  },
  {
   "cell_type": "code",
   "execution_count": 9,
   "metadata": {},
   "outputs": [],
   "source": [
    "def extract_last_quartile(file_path, output_path, qt2=0.9):\n",
    "    df = pd.read_csv(file_path, sep=\"\\t\")\n",
    "\n",
    "    # Compute the last quantile\n",
    "    qt = df[\"tf*idf\"].quantile(qt2)\n",
    "\n",
    "    last_quartile_df = df[df[\"tf*idf\"] >= qt]\n",
    "\n",
    "    last_quartile_df.to_csv(output_path, sep=\"\\t\", index=False, encoding=\"utf-8\")\n",
    "\n",
    "    print(f\"Last quartile extracted and saved to {output_path}\")\n",
    "    print(f\"Q{qt2} Value: {qt}\")\n"
   ]
  },
  {
   "cell_type": "code",
   "execution_count": 10,
   "metadata": {},
   "outputs": [
    {
     "name": "stdout",
     "output_type": "stream",
     "text": [
      "Last quartile extracted and saved to C:/Users/ntich/OneDrive/Desktop/school shit/LO17/TD3/data/lq=0.9.csv\n",
      "Q0.9 Value: 2.513217600067939\n"
     ]
    }
   ],
   "source": [
    "extract_last_quartile(\"C:/Users/ntich/OneDrive/Desktop/school shit/LO17/TD3/data/sorted_data.csv\", \n",
    "                       \"C:/Users/ntich/OneDrive/Desktop/school shit/LO17/TD3/data/lq=0.9.csv\", \n",
    "                       0.9)"
   ]
  },
  {
   "cell_type": "markdown",
   "metadata": {},
   "source": [
    "Je n'ai pas réussi à trouver une valeur seuil min. C'est facil de trouver le seuil maximum parcequ'on voir clairement quels mots sont utiles, et quels mots ne le sont pas.\n",
    "Mais, pour le seuil min, c'est bcp moins évident"
   ]
  },
  {
   "cell_type": "code",
   "execution_count": 26,
   "metadata": {},
   "outputs": [],
   "source": [
    "def create_anti_dict(file_path, output_path):\n",
    "    df = pd.read_csv(file_path, sep=\"\\t\")\n",
    "    q1 = df[\"tf*idf\"].quantile(0.17)\n",
    "\n",
    "    # Select words in the first quartile and those with tf*idf >= 10\n",
    "    to_remove = df[df[\"tf*idf\"] <= q1]\n",
    "    to_remove = pd.concat([to_remove, df[df[\"tf*idf\"] >= 10]])\n",
    "\n",
    "    # Keep only unique words\n",
    "    to_remove = to_remove[\"mot\"].drop_duplicates().to_frame()\n",
    "\n",
    "    # Save the filtered results\n",
    "    to_remove.to_csv(output_path, sep=\"\\t\", index=False, encoding=\"utf-8\", header=True)\n"
   ]
  },
  {
   "cell_type": "code",
   "execution_count": 27,
   "metadata": {},
   "outputs": [],
   "source": [
    "create_anti_dict(\"C:/Users/ntich/OneDrive/Desktop/school shit/LO17/TD3/data/sorted_data.csv\", \n",
    "                       \"C:/Users/ntich/OneDrive/Desktop/school shit/LO17/TD3/anti_dict.csv\")"
   ]
  },
  {
   "cell_type": "code",
   "execution_count": 56,
   "metadata": {},
   "outputs": [],
   "source": [
    "#Prepare substitution CSV (unwanted words → \"\")\n",
    "words_to_remove = pd.read_csv(\"C:/Users/ntich/OneDrive/Desktop/school shit/LO17/TD3/anti_dict.csv\")\n",
    "words_to_remove[1] = \" \"  # Set replacement to empty string\n",
    "words_to_remove.to_csv(\"C:/Users/ntich/OneDrive/Desktop/school shit/LO17/TD3/anti_dict2.csv\", sep=\"\\t\", index=False, header=True)"
   ]
  },
  {
   "cell_type": "code",
   "execution_count": 3,
   "metadata": {},
   "outputs": [],
   "source": [
    "import string\n",
    "def nettoyer_texte(texte: str) -> str:\n",
    "    \"\"\"\n",
    "    Nettoie un texte en enlevant la ponctuation et en mettant tous les caractères en minuscules.\n",
    "\n",
    "    :param texte: Le texte à nettoyer.\n",
    "    :return: Le texte nettoyé sans ponctuation et en minuscules.\n",
    "    \"\"\"\n",
    "    ponctuation = string.punctuation\n",
    "    for p in ponctuation:\n",
    "        texte = texte.replace(p, \"\")\n",
    "    return texte.lower() \n",
    "\n",
    "def segmente(fichier, output):\n",
    "    with open(output, \"a\", encoding=\"utf-8\") as f_w:\n",
    "        f_w.write(\"mot\" + \"\\t\" + \"doc_id\\n\")\n",
    "        with open(fichier, \"r\", encoding=\"utf-8\") as f:\n",
    "            doc_id = 0\n",
    "            for ligne in f.readlines():\n",
    "                if \"<fichier>\" in ligne:\n",
    "                    doc_id = ligne[9:14]\n",
    "                if \"<texte>\" in ligne:\n",
    "                    texte = str(ligne)\n",
    "                    texte = texte.replace(\"<texte>\", \"\")\n",
    "                    texte = texte.replace(\"</texte>\", \"\")\n",
    "                    texte_propre = nettoyer_texte(texte)\n",
    "                    mots = texte_propre.split()\n",
    "                    #print(mots)\n",
    "                    for mot in mots:\n",
    "                        to_write = mot + \"\\t\" + doc_id + \"\\n\"\n",
    "                        f_w.write(to_write)\n"
   ]
  },
  {
   "cell_type": "code",
   "execution_count": 6,
   "metadata": {},
   "outputs": [],
   "source": [
    "def substitue(texte, replacables, output):\n",
    "    df = pd.read_csv(replacables, sep=\"\\t\")\n",
    "    with open(output, \"a\", encoding=\"utf-8\") as f_w:\n",
    "        with open(texte, \"r\", encoding=\"utf-8\") as f_r:\n",
    "            for ligne in f_r.readlines():\n",
    "                mots = ligne.split()\n",
    "                for mot in mots:\n",
    "                    match = df[df.iloc[:, 0] == mot]  # Filter by first column\n",
    "                    if not match.empty:\n",
    "                        f_w.write(str(match.iloc[0, 1])+\" \")\n",
    "                    else:\n",
    "                        f_w.write(mot + \" \")\n",
    "                f_w.write(\"\\n\")\n"
   ]
  },
  {
   "cell_type": "code",
   "execution_count": 8,
   "metadata": {},
   "outputs": [],
   "source": [
    "import pandas as pd\n",
    "substitue(\"C:/Users/ntich/OneDrive/Desktop/school shit/LO17/TD2/corpus.XML\",\n",
    "          \"C:/Users/ntich/OneDrive/Desktop/school shit/LO17/TD3/anti_dict2.csv\",\n",
    "            \"C:/Users/ntich/OneDrive/Desktop/school shit/LO17/TD3/corpus_nettoyé2.XML\")"
   ]
  }
 ],
 "metadata": {
  "kernelspec": {
   "display_name": "base",
   "language": "python",
   "name": "python3"
  },
  "language_info": {
   "codemirror_mode": {
    "name": "ipython",
    "version": 3
   },
   "file_extension": ".py",
   "mimetype": "text/x-python",
   "name": "python",
   "nbconvert_exporter": "python",
   "pygments_lexer": "ipython3",
   "version": "3.12.3"
  }
 },
 "nbformat": 4,
 "nbformat_minor": 2
}
